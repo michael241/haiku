{
 "cells": [
  {
   "cell_type": "markdown",
   "metadata": {},
   "source": [
    "# Purpose \n",
    "At regular intervals grab new trends and input in the haiku_db"
   ]
  },
  {
   "cell_type": "markdown",
   "metadata": {},
   "source": [
    "# 0.0 Imports "
   ]
  },
  {
   "cell_type": "code",
   "execution_count": 1,
   "metadata": {},
   "outputs": [],
   "source": [
    "#spark\n",
    "from pyspark import SparkContext\n",
    "\n",
    "#util file inmport functions\n",
    "from modules.API.UtilAPI import UtilAPI\n",
    "from modules.API.TwitterAPI import TwitterAPI\n",
    "from modules.API.SQLAPI import SQLAPI"
   ]
  },
  {
   "cell_type": "markdown",
   "metadata": {},
   "source": [
    "# 1.0 Setup Connections "
   ]
  },
  {
   "cell_type": "code",
   "execution_count": 2,
   "metadata": {},
   "outputs": [],
   "source": [
    "#general\n",
    "Param = UtilAPI().Param\n",
    "DbCursor = SQLAPI().DbCursor\n",
    "TA = TwitterAPI()\n",
    "\n",
    "#pyspark\n",
    "sc = SparkContext(Param['system']['spark_host'],appName=\"H_002_twitter_trend\")"
   ]
  },
  {
   "cell_type": "markdown",
   "metadata": {},
   "source": [
    "# 2.0 Find Latest Trends"
   ]
  }
 ],
 "metadata": {
  "kernelspec": {
   "display_name": "Python 3",
   "language": "python",
   "name": "python3"
  },
  "language_info": {
   "codemirror_mode": {
    "name": "ipython",
    "version": 3
   },
   "file_extension": ".py",
   "mimetype": "text/x-python",
   "name": "python",
   "nbconvert_exporter": "python",
   "pygments_lexer": "ipython3",
   "version": "3.7.3"
  }
 },
 "nbformat": 4,
 "nbformat_minor": 4
}
