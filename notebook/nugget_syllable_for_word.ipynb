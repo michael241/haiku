{
 "cells": [
  {
   "cell_type": "markdown",
   "metadata": {},
   "source": [
    "# Purpose\n",
    "For a given English word, this nugget explores how we approach finding the count of syllables for the word.  This is important because haiku's rely on syllables to structure the lines. <br> <br>\n",
    "\n",
    "Sections:\n",
    "* 0.0 Imports\n",
    "* 1.0 Utilize NLTK"
   ]
  },
  {
   "cell_type": "markdown",
   "metadata": {},
   "source": [
    "# 0.0 Imports \n"
   ]
  },
  {
   "cell_type": "code",
   "execution_count": 1,
   "metadata": {},
   "outputs": [],
   "source": [
    "#nltk choosen over spacy due to problems with installation of spacy\n",
    "import nltk\n",
    "\n",
    "# stopwords are words that do not provide meaning\n",
    "# cmudict - Carnegie Mellon Pronoucing Dictionary - will get the majorty of syalble questions\n",
    "from nltk.corpus import stopwords, cmudict"
   ]
  },
  {
   "cell_type": "markdown",
   "metadata": {},
   "source": [
    "# 1.0 Utilize NLTK \n",
    "We need a basic understanding of nltk in order to proerly leverage it"
   ]
  },
  {
   "cell_type": "markdown",
   "metadata": {},
   "source": [
    "### 1.1 Find Parts of Speech "
   ]
  },
  {
   "cell_type": "markdown",
   "metadata": {},
   "source": [
    "Example text"
   ]
  },
  {
   "cell_type": "code",
   "execution_count": 2,
   "metadata": {},
   "outputs": [],
   "source": [
    "tweet = \"The quick brown fox jumps over the lazy dog\""
   ]
  },
  {
   "cell_type": "markdown",
   "metadata": {},
   "source": [
    "Interpretting the parts of speech "
   ]
  },
  {
   "cell_type": "markdown",
   "metadata": {},
   "source": [
    "* CC coordinating conjunction\n",
    "* CD cardinal digit\n",
    "* DT determiner\n",
    "* EX existential there (like: \"there is\" ... think of it like \"there exists\")\n",
    "* FW foreign word\n",
    "* IN preposition/subordinating conjunction\n",
    "* JJ adjective 'big'\n",
    "* JJR adjective, comparative 'bigger'\n",
    "* JJS adjective, superlative 'biggest'\n",
    "* LS list marker 1)\n",
    "* MD modal could, will\n",
    "* NN noun, singular 'desk'\n",
    "* NNS noun plural 'desks'\n",
    "* NNP proper noun, singular 'Harrison'\n",
    "* NNPS proper noun, plural 'Americans'\n",
    "* PDT predeterminer 'all the kids'\n",
    "* POS possessive ending parent's\n",
    "* PRP personal pronoun I, he, she\n",
    "* PRP$ possessive pronoun my, his, hers\n",
    "* RB adverb very, silently,\n",
    "* RBR adverb, comparative better\n",
    "* RBS adverb, superlative best\n",
    "* RP particle give up\n",
    "* TO to go 'to' the store.\n",
    "* UH interjection errrrrrrrm\n",
    "* VB verb, base form take\n",
    "* VBD verb, past tense took\n",
    "* VBG verb, gerund/present participle taking\n",
    "* VBN verb, past participle taken\n",
    "* VBP verb, sing. present, non-3d take\n",
    "* VBZ verb, 3rd person sing. present takes\n",
    "* WDT wh-determiner which\n",
    "* WP wh-pronoun who, what\n",
    "* WP\\$ possessive wh-pronoun whose\n",
    "* WRB wh-abverb where, when"
   ]
  },
  {
   "cell_type": "markdown",
   "metadata": {},
   "source": [
    "Get Part of Speech"
   ]
  },
  {
   "cell_type": "code",
   "execution_count": 3,
   "metadata": {},
   "outputs": [
    {
     "data": {
      "text/plain": [
       "[('the', 'DT'),\n",
       " ('quick', 'JJ'),\n",
       " ('brown', 'NN'),\n",
       " ('fox', 'NN'),\n",
       " ('jumps', 'VBZ'),\n",
       " ('over', 'IN'),\n",
       " ('the', 'DT'),\n",
       " ('lazy', 'JJ'),\n",
       " ('dog', 'NN')]"
      ]
     },
     "execution_count": 3,
     "metadata": {},
     "output_type": "execute_result"
    }
   ],
   "source": [
    "tokenize = nltk.word_tokenize(tweet.lower())\n",
    "nltk.pos_tag(tokenize)"
   ]
  },
  {
   "cell_type": "markdown",
   "metadata": {},
   "source": [
    "### 1.2 Indicate Stop Words "
   ]
  },
  {
   "cell_type": "markdown",
   "metadata": {},
   "source": [
    "Indicate Stop Words "
   ]
  },
  {
   "cell_type": "code",
   "execution_count": 4,
   "metadata": {},
   "outputs": [
    {
     "data": {
      "text/plain": [
       "[('the', True),\n",
       " ('quick', False),\n",
       " ('brown', False),\n",
       " ('fox', False),\n",
       " ('jumps', False),\n",
       " ('over', True),\n",
       " ('the', True),\n",
       " ('lazy', False),\n",
       " ('dog', False)]"
      ]
     },
     "execution_count": 4,
     "metadata": {},
     "output_type": "execute_result"
    }
   ],
   "source": [
    "[(x,True if x in stopwords.words('english') else False) for x in tokenize]"
   ]
  },
  {
   "cell_type": "markdown",
   "metadata": {},
   "source": [
    "### 1.3 Indicate Syllables"
   ]
  },
  {
   "cell_type": "markdown",
   "metadata": {},
   "source": [
    "For common words find the number of syllables (based on pronunciation)"
   ]
  },
  {
   "cell_type": "code",
   "execution_count": 5,
   "metadata": {},
   "outputs": [],
   "source": [
    "d = cmudict.dict()"
   ]
  },
  {
   "cell_type": "markdown",
   "metadata": {},
   "source": [
    "Each line consists of an upercase word, a counter (for alternative prounciations) and a transcriptions.  Vowels are marked for stress  (1=primary, 2=secondary, 0=no stress) <br>\n",
    "Must be lower case <br>\n",
    "In cases of multiple pronunciations, take the first list (most common pronunciation)"
   ]
  },
  {
   "cell_type": "code",
   "execution_count": 6,
   "metadata": {},
   "outputs": [
    {
     "data": {
      "text/plain": [
       "[['AY1']]"
      ]
     },
     "execution_count": 6,
     "metadata": {},
     "output_type": "execute_result"
    }
   ],
   "source": [
    "#simple word\n",
    "d['i']"
   ]
  },
  {
   "cell_type": "code",
   "execution_count": 7,
   "metadata": {},
   "outputs": [
    {
     "data": {
      "text/plain": [
       "[['M', 'AH1', 'L', 'T', 'AH0', 'P', 'AH0', 'L']]"
      ]
     },
     "execution_count": 7,
     "metadata": {},
     "output_type": "execute_result"
    }
   ],
   "source": [
    "#sinlge pronunciation\n",
    "d['multiple']"
   ]
  },
  {
   "cell_type": "code",
   "execution_count": 8,
   "metadata": {},
   "outputs": [
    {
     "data": {
      "text/plain": [
       "[['W', 'AA1', 'SH', 'IH0', 'NG', 'T', 'AH0', 'N'],\n",
       " ['W', 'AO1', 'SH', 'IH0', 'NG', 'T', 'AH0', 'N']]"
      ]
     },
     "execution_count": 8,
     "metadata": {},
     "output_type": "execute_result"
    }
   ],
   "source": [
    "#multiple pronunciations\n",
    "d['washington']"
   ]
  },
  {
   "cell_type": "code",
   "execution_count": 9,
   "metadata": {},
   "outputs": [
    {
     "data": {
      "text/plain": [
       "['K', 'AY1', 'HH', 'AA1', 'T', 'D', 'EY0', 'B', 'Y', 'UW1', 'D', 'EY1']"
      ]
     },
     "execution_count": 9,
     "metadata": {},
     "output_type": "execute_result"
    }
   ],
   "source": [
    "#test from twitter (whill need to leverage camel case in #words to split into multiple syllables)\n",
    "#twitter = #KaiHotDebutDay\n",
    "sampleHashTag = d['kai'][0] + d['hot'][0] + d['debut'][0] + d['day'][0]\n",
    "sampleHashTag"
   ]
  },
  {
   "cell_type": "markdown",
   "metadata": {},
   "source": [
    "The count of numbers across the word is the count of syllables"
   ]
  },
  {
   "cell_type": "code",
   "execution_count": 10,
   "metadata": {},
   "outputs": [],
   "source": [
    "def SyllableCount(word,cmuDict = d):\n",
    "    ''' For a given word,find the number of syllables'''\n",
    "    \n",
    "    #clean word\n",
    "    word = word.lower()\n",
    "    \n",
    "    #if word in dict, then proceeed\n",
    "    if word in cmuDict.keys():\n",
    "        \n",
    "        #get the word spread out (join)\n",
    "        dList = \"\".join(cmuDict[word][0])\n",
    "        \n",
    "        #acquire total count of syllables \n",
    "        dCount = dList.count(\"0\") + dList.count(\"1\") + dList.count(\"2\")\n",
    "        \n",
    "        #return\n",
    "        return dCount\n",
    "    \n",
    "    #indicate unknown word\n",
    "    else:\n",
    "        #return 999 to indicate an error (high number favorable to make sure not accidently used)\n",
    "        return 999"
   ]
  },
  {
   "cell_type": "code",
   "execution_count": 11,
   "metadata": {},
   "outputs": [
    {
     "data": {
      "text/plain": [
       "3"
      ]
     },
     "execution_count": 11,
     "metadata": {},
     "output_type": "execute_result"
    }
   ],
   "source": [
    "SyllableCount('Washington')"
   ]
  },
  {
   "cell_type": "markdown",
   "metadata": {},
   "source": [
    "# END "
   ]
  }
 ],
 "metadata": {
  "kernelspec": {
   "display_name": "Python 3",
   "language": "python",
   "name": "python3"
  },
  "language_info": {
   "codemirror_mode": {
    "name": "ipython",
    "version": 3
   },
   "file_extension": ".py",
   "mimetype": "text/x-python",
   "name": "python",
   "nbconvert_exporter": "python",
   "pygments_lexer": "ipython3",
   "version": "3.7.3"
  }
 },
 "nbformat": 4,
 "nbformat_minor": 4
}
