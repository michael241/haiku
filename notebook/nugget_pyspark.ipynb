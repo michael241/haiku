{
 "cells": [
  {
   "cell_type": "markdown",
   "metadata": {},
   "source": [
    "# Purpose \n",
    "Insure that pyspark works properly on Raspberry Pi"
   ]
  },
  {
   "cell_type": "markdown",
   "metadata": {},
   "source": [
    "# 0.0 Imports "
   ]
  },
  {
   "cell_type": "code",
   "execution_count": 1,
   "metadata": {},
   "outputs": [],
   "source": [
    "from pyspark import SparkContext\n",
    "from pyspark.sql import SparkSession\n",
    "from operator import add"
   ]
  },
  {
   "cell_type": "markdown",
   "metadata": {},
   "source": [
    "# 1.0 Set up Spark"
   ]
  },
  {
   "cell_type": "code",
   "execution_count": 2,
   "metadata": {},
   "outputs": [],
   "source": [
    "sc = SparkContext(\"local\",\"nugget\")"
   ]
  },
  {
   "cell_type": "code",
   "execution_count": 3,
   "metadata": {},
   "outputs": [],
   "source": [
    "#sparkAlt = SparkSession.builder.master(\"local\").appName(\"nugget.com\").getOrCreate()"
   ]
  },
  {
   "cell_type": "markdown",
   "metadata": {},
   "source": [
    "# 2.0 Basic Tests"
   ]
  },
  {
   "cell_type": "markdown",
   "metadata": {},
   "source": [
    "Basic count inputs"
   ]
  },
  {
   "cell_type": "code",
   "execution_count": 36,
   "metadata": {},
   "outputs": [],
   "source": [
    "word = ['art','bat','car','dad','ear','fox','gym','hum','icy','jaw','kit','lug','men','nix','oak','pea','qat','rug','saw','tin','urn','vow','web','xis','yam','zoo']\n",
    "wordAscend = [a for b in [[word[x]]*(x+1) for x in range(len(word))] for a in b]\n",
    "num = [x for x in range(0,100)]"
   ]
  },
  {
   "cell_type": "markdown",
   "metadata": {},
   "source": [
    "Paralleize\n"
   ]
  },
  {
   "cell_type": "code",
   "execution_count": 37,
   "metadata": {},
   "outputs": [],
   "source": [
    "wordP = sc.parallelize(word)\n",
    "wordAscendP = sc.parallelize(wordAscend)"
   ]
  },
  {
   "cell_type": "markdown",
   "metadata": {},
   "source": [
    "Collect"
   ]
  },
  {
   "cell_type": "markdown",
   "metadata": {},
   "source": [
    "Filter "
   ]
  },
  {
   "cell_type": "code",
   "execution_count": 25,
   "metadata": {},
   "outputs": [
    {
     "data": {
      "text/plain": [
       "['gym', 'icy', 'yam']"
      ]
     },
     "execution_count": 25,
     "metadata": {},
     "output_type": "execute_result"
    }
   ],
   "source": [
    "wordP.filter(lambda x: 'y' in x).collect()"
   ]
  },
  {
   "cell_type": "markdown",
   "metadata": {},
   "source": [
    "map reduce - sum by key"
   ]
  },
  {
   "cell_type": "code",
   "execution_count": 48,
   "metadata": {},
   "outputs": [],
   "source": [
    "wordAscendP1 = wordAscendP.map(lambda x:(x,1))#.reduceByKey(add).collect()"
   ]
  },
  {
   "cell_type": "code",
   "execution_count": 61,
   "metadata": {},
   "outputs": [
    {
     "name": "stdout",
     "output_type": "stream",
     "text": [
      "('art', 1) art 1\n",
      "('bat', 2) bat 2\n",
      "('car', 3) car 3\n",
      "('dad', 4) dad 4\n",
      "('ear', 5) ear 5\n",
      "('fox', 6) fox 6\n",
      "('gym', 7) gym 7\n",
      "('hum', 8) hum 8\n",
      "('icy', 9) icy 9\n",
      "('jaw', 10) jaw 10\n",
      "('kit', 11) kit 11\n",
      "('lug', 12) lug 12\n",
      "('men', 13) men 13\n",
      "('nix', 14) nix 14\n",
      "('oak', 15) oak 15\n",
      "('pea', 16) pea 16\n",
      "('qat', 17) qat 17\n",
      "('rug', 18) rug 18\n",
      "('saw', 19) saw 19\n",
      "('tin', 20) tin 20\n",
      "('urn', 21) urn 21\n",
      "('vow', 22) vow 22\n",
      "('web', 23) web 23\n",
      "('xis', 24) xis 24\n",
      "('yam', 25) yam 25\n",
      "('zoo', 26) zoo 26\n"
     ]
    }
   ],
   "source": [
    "#three parallel lists\n",
    "l1 = wordAscendP1.reduceByKey(add).collect()\n",
    "l2 = wordAscendP1.reduceByKey(add).keys().collect()\n",
    "l3 = wordAscendP1.reduceByKey(add).values().collect()\n",
    "\n",
    "#show values \n",
    "for x in range(len((l1))):\n",
    "    print(l1[x],l2[x],l3[x])"
   ]
  },
  {
   "cell_type": "markdown",
   "metadata": {},
   "source": [
    "Shutdown spark cluster"
   ]
  },
  {
   "cell_type": "code",
   "execution_count": 65,
   "metadata": {},
   "outputs": [],
   "source": [
    "sc.stop()"
   ]
  },
  {
   "cell_type": "markdown",
   "metadata": {},
   "source": [
    "# End"
   ]
  }
 ],
 "metadata": {
  "kernelspec": {
   "display_name": "Python 3",
   "language": "python",
   "name": "python3"
  },
  "language_info": {
   "codemirror_mode": {
    "name": "ipython",
    "version": 3
   },
   "file_extension": ".py",
   "mimetype": "text/x-python",
   "name": "python",
   "nbconvert_exporter": "python",
   "pygments_lexer": "ipython3",
   "version": "3.7.3"
  }
 },
 "nbformat": 4,
 "nbformat_minor": 4
}
