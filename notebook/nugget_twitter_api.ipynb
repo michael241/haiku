{
 "cells": [
  {
   "cell_type": "markdown",
   "metadata": {},
   "source": [
    "# Purpose \n",
    "Connect to Twitter API for calling down information from TwitterAPI.  Before we can build a bot we need to be able to really understand how to best work with API. <br> <br> Sections:\n",
    "* 0.0 Imports\n",
    "* 1.0 Twitter API Setup\n",
    "* 2.0 Working Code Examples"
   ]
  },
  {
   "cell_type": "markdown",
   "metadata": {},
   "source": [
    "# 0.0 Imports \n",
    "Reference : Earthe Data Analytics Online Certificate "
   ]
  },
  {
   "cell_type": "code",
   "execution_count": 1,
   "metadata": {},
   "outputs": [],
   "source": [
    "import requests\n",
    "import os\n",
    "import json\n",
    "import pandas as pd\n",
    "import tweepy as tw"
   ]
  },
  {
   "cell_type": "markdown",
   "metadata": {},
   "source": [
    "# 1.0 Twitter API Setup\n",
    "These functions allow us to gather information that we need to easily interact with twitter."
   ]
  },
  {
   "cell_type": "markdown",
   "metadata": {},
   "source": [
    "Setup environmental variables from config file"
   ]
  },
  {
   "cell_type": "code",
   "execution_count": 2,
   "metadata": {},
   "outputs": [
    {
     "name": "stdout",
     "output_type": "stream",
     "text": [
      "/home/pi/repo/haiku/notebook\n",
      "/home/pi/repo/haiku\n",
      "/home/pi/repo/haiku/notebook\n"
     ]
    }
   ],
   "source": [
    "%cd /home/pi/repo/haiku/notebook\n",
    "%cd ..\n",
    "%run config.py\n",
    "%cd notebook"
   ]
  },
  {
   "cell_type": "markdown",
   "metadata": {},
   "source": [
    "Read in environmental variables for local consumption"
   ]
  },
  {
   "cell_type": "code",
   "execution_count": 3,
   "metadata": {},
   "outputs": [],
   "source": [
    "consumer_key = os.environ['twitter_consumer_key']\n",
    "consumer_secret_key = os.environ['twitter_consumer_secret_key']\n",
    "access_token =  os.environ['twitter_access_token']\n",
    "access_token_secret = os.environ['twitter_access_token_secret']"
   ]
  },
  {
   "cell_type": "code",
   "execution_count": null,
   "metadata": {},
   "outputs": [],
   "source": []
  },
  {
   "cell_type": "markdown",
   "metadata": {},
   "source": [
    "Authorize API"
   ]
  },
  {
   "cell_type": "code",
   "execution_count": 4,
   "metadata": {},
   "outputs": [],
   "source": [
    "#setup authorization\n",
    "auth = tw.OAuthHandler(consumer_key,consumer_secret_key)\n",
    "auth.set_access_token(access_token,access_token_secret)"
   ]
  },
  {
   "cell_type": "markdown",
   "metadata": {},
   "source": [
    "Initiate API"
   ]
  },
  {
   "cell_type": "code",
   "execution_count": 5,
   "metadata": {},
   "outputs": [],
   "source": [
    "#make API\n",
    "twitterAPI = tw.API(auth,wait_on_rate_limit=True)"
   ]
  },
  {
   "cell_type": "markdown",
   "metadata": {},
   "source": [
    "# 2.0 Examples of Working Code "
   ]
  },
  {
   "cell_type": "markdown",
   "metadata": {},
   "source": [
    "### 2.1 Send Tweet\n",
    "False here so every time the notebook is run we do not accidently send out this tweet."
   ]
  },
  {
   "cell_type": "code",
   "execution_count": 6,
   "metadata": {},
   "outputs": [],
   "source": [
    "if False:\n",
    "    #anything in the update_status is updated in status - confirmed\n",
    "    twitterAPI.update_status(\"Test Tweet\")"
   ]
  },
  {
   "cell_type": "markdown",
   "metadata": {},
   "source": [
    "### 2.2 Search on Twitter for Tweats "
   ]
  },
  {
   "cell_type": "markdown",
   "metadata": {},
   "source": [
    "Parameters for searching for tweats on a specific keyword"
   ]
  },
  {
   "cell_type": "code",
   "execution_count": 7,
   "metadata": {},
   "outputs": [],
   "source": [
    "#any string acceptable (without retweets)\n",
    "#search_words = \"#haiku -filter:retweets\"\n",
    "\n",
    "#two words\n",
    "search_words = \"climate+change -filter:retweets\"\n",
    "\n",
    "#date format YYYY-MM-DD\n",
    "date_since = \"2020-11-28\""
   ]
  },
  {
   "cell_type": "markdown",
   "metadata": {},
   "source": [
    "Gather the tweets (with #haiku in searhc, since a certain date,only the five more recent) <br>\n",
    "Maintain the information (please note the Cursor does not substantiate the data - it is one read only without tweeks)"
   ]
  },
  {
   "cell_type": "code",
   "execution_count": 8,
   "metadata": {},
   "outputs": [],
   "source": [
    "tweetList = [ x for x in tw.Cursor(twitterAPI.search,\n",
    "                     q=search_words,\n",
    "                     lang=\"en\",\n",
    "                     since=date_since).items(5)]"
   ]
  },
  {
   "cell_type": "markdown",
   "metadata": {},
   "source": [
    "Get text from tweets \n",
    "* screen name\n",
    "* generation time\n",
    "* geographic origin\n",
    "* status"
   ]
  },
  {
   "cell_type": "code",
   "execution_count": 9,
   "metadata": {},
   "outputs": [
    {
     "data": {
      "text/plain": [
       "[('commonsense058',\n",
       "  datetime.datetime(2020, 11, 30, 4, 0, 6),\n",
       "  'Melbourne, Victoria',\n",
       "  '@AdamBandt and @GretaThunberg really should do some meteorological homework before they claim one warm day in Summe… https://t.co/VwJt9dDfAO'),\n",
       " ('great_thunberg',\n",
       "  datetime.datetime(2020, 11, 30, 4, 0, 3),\n",
       "  'Stockholm',\n",
       "  'The Urgent Need For Political Action On Climate Change In South Asia - Modern Diplomacy\\nhttps://t.co/MXPTOodcGW'),\n",
       " ('yenisafakEN',\n",
       "  datetime.datetime(2020, 11, 30, 4, 0),\n",
       "  '',\n",
       "  'UAE cabinet approves new cybersecurity body, climate change envoy\\nhttps://t.co/6VDYSn4t2f https://t.co/ajEU3s9WaU'),\n",
       " ('faririii',\n",
       "  datetime.datetime(2020, 11, 30, 3, 58, 43),\n",
       "  'Highbridge, Bronx',\n",
       "  'I think a lot of in tune Bangladeshi folk feel this way, especially because the effects of climate change is causin… https://t.co/4OUR66w6aO'),\n",
       " ('Micro_MDPI',\n",
       "  datetime.datetime(2020, 11, 30, 3, 58, 35),\n",
       "  'Basel, Switzerland',\n",
       "  'Special Issue \"Microorganisms and Wildlife Conservation in the Face of Climate Change\"\\nDeadline for manuscript subm… https://t.co/vG1PO3U97e')]"
      ]
     },
     "execution_count": 9,
     "metadata": {},
     "output_type": "execute_result"
    }
   ],
   "source": [
    "[(tweet.user.screen_name\n",
    "  ,tweet.created_at\n",
    "  ,tweet.user.location\n",
    "  ,tweet.text) for tweet in tweetList]"
   ]
  },
  {
   "cell_type": "markdown",
   "metadata": {},
   "source": [
    "### 2.3 Find Current Trends"
   ]
  },
  {
   "cell_type": "markdown",
   "metadata": {},
   "source": [
    "Get a list of all the APIs that are globally trackable (worldwide id is 1)"
   ]
  },
  {
   "cell_type": "code",
   "execution_count": 10,
   "metadata": {},
   "outputs": [],
   "source": [
    "trendWatcherGlobal = twitterAPI.trends_available()"
   ]
  },
  {
   "cell_type": "markdown",
   "metadata": {},
   "source": [
    "Get the trends closet to a specific address (boston, ma woeid = 2367105)"
   ]
  },
  {
   "cell_type": "code",
   "execution_count": 11,
   "metadata": {},
   "outputs": [],
   "source": [
    "trendWatcherLocal = twitterAPI.trends_closest(42.361145,-71.057083)"
   ]
  },
  {
   "cell_type": "markdown",
   "metadata": {},
   "source": [
    "### 2.4 Get Global Trends \n",
    "Get the trends from a specific place (worldwide)"
   ]
  },
  {
   "cell_type": "code",
   "execution_count": 12,
   "metadata": {},
   "outputs": [],
   "source": [
    "trendGlobal = twitterAPI.trends_place(1)"
   ]
  },
  {
   "cell_type": "markdown",
   "metadata": {},
   "source": [
    "See Top 5 Trending things right now."
   ]
  },
  {
   "cell_type": "code",
   "execution_count": 13,
   "metadata": {},
   "outputs": [
    {
     "data": {
      "text/plain": [
       "[(0,\n",
       "  {'name': '#KaiHotDebutDay',\n",
       "   'url': 'http://twitter.com/search?q=%23KaiHotDebutDay',\n",
       "   'promoted_content': None,\n",
       "   'query': '%23KaiHotDebutDay',\n",
       "   'tweet_volume': 420635}),\n",
       " (1,\n",
       "  {'name': '#KAI_MmmhOutNow',\n",
       "   'url': 'http://twitter.com/search?q=%23KAI_MmmhOutNow',\n",
       "   'promoted_content': None,\n",
       "   'query': '%23KAI_MmmhOutNow',\n",
       "   'tweet_volume': 228631}),\n",
       " (2,\n",
       "  {'name': '#카이_음_뮤비공개',\n",
       "   'url': 'http://twitter.com/search?q=%23%EC%B9%B4%EC%9D%B4_%EC%9D%8C_%EB%AE%A4%EB%B9%84%EA%B3%B5%EA%B0%9C',\n",
       "   'promoted_content': None,\n",
       "   'query': '%23%EC%B9%B4%EC%9D%B4_%EC%9D%8C_%EB%AE%A4%EB%B9%84%EA%B3%B5%EA%B0%9C',\n",
       "   'tweet_volume': 194250}),\n",
       " (3,\n",
       "  {'name': '#TheUndoing',\n",
       "   'url': 'http://twitter.com/search?q=%23TheUndoing',\n",
       "   'promoted_content': None,\n",
       "   'query': '%23TheUndoing',\n",
       "   'tweet_volume': 36240}),\n",
       " (4,\n",
       "  {'name': 'Bears',\n",
       "   'url': 'http://twitter.com/search?q=Bears',\n",
       "   'promoted_content': None,\n",
       "   'query': 'Bears',\n",
       "   'tweet_volume': 89063})]"
      ]
     },
     "execution_count": 13,
     "metadata": {},
     "output_type": "execute_result"
    }
   ],
   "source": [
    "[(i,x) for i,x in enumerate(trendGlobal[0]['trends']) if i <= 4]"
   ]
  },
  {
   "cell_type": "markdown",
   "metadata": {},
   "source": [
    "### 2.5 Get Regional Trendings Topics (Boston)"
   ]
  },
  {
   "cell_type": "markdown",
   "metadata": {},
   "source": [
    "Gather local Trends About Boston"
   ]
  },
  {
   "cell_type": "code",
   "execution_count": 14,
   "metadata": {},
   "outputs": [],
   "source": [
    "trendLocal = twitterAPI.trends_place(2367105)"
   ]
  },
  {
   "cell_type": "code",
   "execution_count": 15,
   "metadata": {},
   "outputs": [
    {
     "data": {
      "text/plain": [
       "[(0,\n",
       "  {'name': '#NERevs',\n",
       "   'url': 'http://twitter.com/search?q=%23NERevs',\n",
       "   'promoted_content': None,\n",
       "   'query': '%23NERevs',\n",
       "   'tweet_volume': None}),\n",
       " (1,\n",
       "  {'name': 'Bruce Arians',\n",
       "   'url': 'http://twitter.com/search?q=%22Bruce+Arians%22',\n",
       "   'promoted_content': None,\n",
       "   'query': '%22Bruce+Arians%22',\n",
       "   'tweet_volume': None}),\n",
       " (2,\n",
       "  {'name': 'Cam Newton',\n",
       "   'url': 'http://twitter.com/search?q=%22Cam+Newton%22',\n",
       "   'promoted_content': None,\n",
       "   'query': '%22Cam+Newton%22',\n",
       "   'tweet_volume': 11074}),\n",
       " (3,\n",
       "  {'name': '#MLSCupPlayoffs',\n",
       "   'url': 'http://twitter.com/search?q=%23MLSCupPlayoffs',\n",
       "   'promoted_content': None,\n",
       "   'query': '%23MLSCupPlayoffs',\n",
       "   'tweet_volume': None}),\n",
       " (4,\n",
       "  {'name': 'Abby',\n",
       "   'url': 'http://twitter.com/search?q=Abby',\n",
       "   'promoted_content': None,\n",
       "   'query': 'Abby',\n",
       "   'tweet_volume': 24751})]"
      ]
     },
     "execution_count": 15,
     "metadata": {},
     "output_type": "execute_result"
    }
   ],
   "source": [
    "[(i,x) for i,x in enumerate(trendLocal[0]['trends']) if i <= 4]"
   ]
  },
  {
   "cell_type": "markdown",
   "metadata": {},
   "source": [
    "# End "
   ]
  }
 ],
 "metadata": {
  "kernelspec": {
   "display_name": "Python 3",
   "language": "python",
   "name": "python3"
  },
  "language_info": {
   "codemirror_mode": {
    "name": "ipython",
    "version": 3
   },
   "file_extension": ".py",
   "mimetype": "text/x-python",
   "name": "python",
   "nbconvert_exporter": "python",
   "pygments_lexer": "ipython3",
   "version": "3.7.3"
  }
 },
 "nbformat": 4,
 "nbformat_minor": 4
}
