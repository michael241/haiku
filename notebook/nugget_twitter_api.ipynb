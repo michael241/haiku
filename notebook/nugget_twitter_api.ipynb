{
 "cells": [
  {
   "cell_type": "markdown",
   "metadata": {},
   "source": [
    "# Purpose \n",
    "Connect to Twitter API for calling down information from TwitterAPI.  Before we can build a bot we need to be able to really understand how to best work with API. <br> <br> Sections:\n",
    "* 0.0 Imports\n",
    "* 1.0 Twitter API Setup\n",
    "* 2.0 Working Code Examples"
   ]
  },
  {
   "cell_type": "markdown",
   "metadata": {},
   "source": [
    "# 0.0 Imports \n",
    "Reference : Earthe Data Analytics Online Certificate "
   ]
  },
  {
   "cell_type": "code",
   "execution_count": 1,
   "metadata": {},
   "outputs": [],
   "source": [
    "import requests\n",
    "import os\n",
    "import json\n",
    "import pandas as pd\n",
    "import tweepy as tw"
   ]
  },
  {
   "cell_type": "markdown",
   "metadata": {},
   "source": [
    "# 1.0 Twitter API Setup\n",
    "These functions allow us to gather information that we need to easily interact with twitter."
   ]
  },
  {
   "cell_type": "markdown",
   "metadata": {},
   "source": [
    "Read in environmental variables for local consumption"
   ]
  },
  {
   "cell_type": "code",
   "execution_count": 2,
   "metadata": {},
   "outputs": [],
   "source": [
    "consumer_key = os.environ['twitter_consumer_key']\n",
    "consumer_secret_key = os.environ['twitter_consumer_secret_key']\n",
    "access_token =  os.environ['twitter_access_token']\n",
    "access_token_secret = os.environ['twitter_access_token_secret']"
   ]
  },
  {
   "cell_type": "markdown",
   "metadata": {},
   "source": [
    "Authorize API"
   ]
  },
  {
   "cell_type": "code",
   "execution_count": 3,
   "metadata": {},
   "outputs": [],
   "source": [
    "#setup authorization\n",
    "auth = tw.OAuthHandler(consumer_key,consumer_secret_key)\n",
    "auth.set_access_token(access_token,access_token_secret)"
   ]
  },
  {
   "cell_type": "markdown",
   "metadata": {},
   "source": [
    "Initiate API"
   ]
  },
  {
   "cell_type": "code",
   "execution_count": 4,
   "metadata": {},
   "outputs": [],
   "source": [
    "#make API\n",
    "twitterAPI = tw.API(auth,wait_on_rate_limit=True)"
   ]
  },
  {
   "cell_type": "markdown",
   "metadata": {},
   "source": [
    "# 2.0 Examples of Working Code "
   ]
  },
  {
   "cell_type": "markdown",
   "metadata": {},
   "source": [
    "### 2.1 Send Tweet\n",
    "False here so every time the notebook is run we do not accidently send out this tweet."
   ]
  },
  {
   "cell_type": "code",
   "execution_count": 5,
   "metadata": {},
   "outputs": [],
   "source": [
    "if False:\n",
    "    #anything in the update_status is updated in status - confirmed\n",
    "    twitterAPI.update_status(\"Test Tweet\")"
   ]
  },
  {
   "cell_type": "markdown",
   "metadata": {},
   "source": [
    "### 2.2 Search on Twitter for Tweats "
   ]
  },
  {
   "cell_type": "markdown",
   "metadata": {},
   "source": [
    "Parameters for searching for tweats on a specific keyword"
   ]
  },
  {
   "cell_type": "code",
   "execution_count": 6,
   "metadata": {},
   "outputs": [],
   "source": [
    "#any string acceptable (without retweets)\n",
    "#search_words = \"#haiku -filter:retweets\"\n",
    "\n",
    "#two words\n",
    "search_words = \"climate+change -filter:retweets\"\n",
    "\n",
    "#date format YYYY-MM-DD\n",
    "date_since = \"2020-11-28\""
   ]
  },
  {
   "cell_type": "markdown",
   "metadata": {},
   "source": [
    "Gather the tweets (with #haiku in searhc, since a certain date,only the five more recent) <br>\n",
    "Maintain the information (please note the Cursor does not substantiate the data - it is one read only without tweeks)"
   ]
  },
  {
   "cell_type": "code",
   "execution_count": 7,
   "metadata": {},
   "outputs": [],
   "source": [
    "tweetList = [ x for x in tw.Cursor(twitterAPI.search,\n",
    "                     q=search_words,\n",
    "                     lang=\"en\",\n",
    "                     since=date_since).items(5)]"
   ]
  },
  {
   "cell_type": "markdown",
   "metadata": {},
   "source": [
    "Get text from tweets \n",
    "* screen name\n",
    "* created_at (generation time)\n",
    "* tweet.user.location (geographic origin)\n",
    "* status\n",
    "* id\n",
    "* entities ( information about things hashtaged)\n",
    "* user\n",
    "* geo\n",
    "* coordinates (coordinates of the status)\n",
    "* place (place of the status)\n",
    "* lang"
   ]
  },
  {
   "cell_type": "code",
   "execution_count": 8,
   "metadata": {},
   "outputs": [
    {
     "data": {
      "text/plain": [
       "[('thunter777',\n",
       "  datetime.datetime(2020, 12, 11, 4, 38, 48),\n",
       "  '',\n",
       "  '@indeference @JohnMcainsGhost @JordanUhl And without space tech at all we would have much less understanding of our… https://t.co/LTaeYfRRi6'),\n",
       " ('brown_gupta',\n",
       "  datetime.datetime(2020, 12, 11, 4, 38, 45),\n",
       "  'New York, NY',\n",
       "  'Joe Biden &amp; Kamala Harris winning person of the year is laughable. Much better candidates:\\n\\nDr. Anthony Fauci\\nAndre… https://t.co/6GpqxueEGc'),\n",
       " ('hugo_indalecio',\n",
       "  datetime.datetime(2020, 12, 11, 4, 38, 27),\n",
       "  '',\n",
       "  'Climate change spurring frog extinctions: conservationists https://t.co/pYakrnIObI'),\n",
       " ('MorrowJamesAdam',\n",
       "  datetime.datetime(2020, 12, 11, 4, 38, 22),\n",
       "  'San Francisco, CA',\n",
       "  'Thursday night in the Bird House:\\n\\n\"The modeled robustness of the aridity response to climate change has already be… https://t.co/wO3dV4pI0W'),\n",
       " ('DavidMo66984563',\n",
       "  datetime.datetime(2020, 12, 11, 4, 38, 20),\n",
       "  '',\n",
       "  '@Sen_JoeManchin Healthy? How when Manchin is willing to shoot away the future of humanity? why is he even on the En… https://t.co/uUBtVmVBkO')]"
      ]
     },
     "execution_count": 8,
     "metadata": {},
     "output_type": "execute_result"
    }
   ],
   "source": [
    "[(tweet.user.screen_name\n",
    "  ,tweet.created_at\n",
    "  ,tweet.user.location\n",
    "  ,tweet.text) for tweet in tweetList]"
   ]
  },
  {
   "cell_type": "markdown",
   "metadata": {},
   "source": [
    "### 2.3 Find Current Trends"
   ]
  },
  {
   "cell_type": "markdown",
   "metadata": {},
   "source": [
    "Get a list of all the APIs that are globally trackable (worldwide id is 1)"
   ]
  },
  {
   "cell_type": "code",
   "execution_count": 9,
   "metadata": {},
   "outputs": [],
   "source": [
    "trendWatcherGlobal = twitterAPI.trends_available()"
   ]
  },
  {
   "cell_type": "markdown",
   "metadata": {},
   "source": [
    "Get the trends closet to a specific address (boston, ma woeid = 2367105)"
   ]
  },
  {
   "cell_type": "code",
   "execution_count": 10,
   "metadata": {},
   "outputs": [],
   "source": [
    "trendWatcherLocal = twitterAPI.trends_closest(42.361145,-71.057083)"
   ]
  },
  {
   "cell_type": "markdown",
   "metadata": {},
   "source": [
    "### 2.4 Get Global Trends \n",
    "Get the trends from a specific place (worldwide)"
   ]
  },
  {
   "cell_type": "code",
   "execution_count": 11,
   "metadata": {},
   "outputs": [],
   "source": [
    "trendGlobal = twitterAPI.trends_place(1)"
   ]
  },
  {
   "cell_type": "markdown",
   "metadata": {},
   "source": [
    "See Top 5 Trending things right now."
   ]
  },
  {
   "cell_type": "code",
   "execution_count": 12,
   "metadata": {},
   "outputs": [
    {
     "data": {
      "text/plain": [
       "[(0,\n",
       "  {'name': 'Disney',\n",
       "   'url': 'http://twitter.com/search?q=Disney',\n",
       "   'promoted_content': None,\n",
       "   'query': 'Disney',\n",
       "   'tweet_volume': 699765}),\n",
       " (1,\n",
       "  {'name': 'Brandon',\n",
       "   'url': 'http://twitter.com/search?q=Brandon',\n",
       "   'promoted_content': None,\n",
       "   'query': 'Brandon',\n",
       "   'tweet_volume': 1188737}),\n",
       " (2,\n",
       "  {'name': '#TheGameAwards',\n",
       "   'url': 'http://twitter.com/search?q=%23TheGameAwards',\n",
       "   'promoted_content': None,\n",
       "   'query': '%23TheGameAwards',\n",
       "   'tweet_volume': 391574}),\n",
       " (3,\n",
       "  {'name': 'Deebo',\n",
       "   'url': 'http://twitter.com/search?q=Deebo',\n",
       "   'promoted_content': None,\n",
       "   'query': 'Deebo',\n",
       "   'tweet_volume': 124008}),\n",
       " (4,\n",
       "  {'name': 'セフィロス',\n",
       "   'url': 'http://twitter.com/search?q=%E3%82%BB%E3%83%95%E3%82%A3%E3%83%AD%E3%82%B9',\n",
       "   'promoted_content': None,\n",
       "   'query': '%E3%82%BB%E3%83%95%E3%82%A3%E3%83%AD%E3%82%B9',\n",
       "   'tweet_volume': 243747})]"
      ]
     },
     "execution_count": 12,
     "metadata": {},
     "output_type": "execute_result"
    }
   ],
   "source": [
    "[(i,x) for i,x in enumerate(trendGlobal[0]['trends']) if i <= 4]"
   ]
  },
  {
   "cell_type": "markdown",
   "metadata": {},
   "source": [
    "### 2.5 Get Regional Trendings Topics (Boston)"
   ]
  },
  {
   "cell_type": "markdown",
   "metadata": {},
   "source": [
    "Gather local Trends About Boston"
   ]
  },
  {
   "cell_type": "code",
   "execution_count": 13,
   "metadata": {},
   "outputs": [],
   "source": [
    "trendLocal = twitterAPI.trends_place(2367105)"
   ]
  },
  {
   "cell_type": "code",
   "execution_count": 14,
   "metadata": {},
   "outputs": [
    {
     "data": {
      "text/plain": [
       "[(0,\n",
       "  {'name': 'Jake Bailey',\n",
       "   'url': 'http://twitter.com/search?q=%22Jake+Bailey%22',\n",
       "   'promoted_content': None,\n",
       "   'query': '%22Jake+Bailey%22',\n",
       "   'tweet_volume': None}),\n",
       " (1,\n",
       "  {'name': 'Myles Bryant',\n",
       "   'url': 'http://twitter.com/search?q=%22Myles+Bryant%22',\n",
       "   'promoted_content': None,\n",
       "   'query': '%22Myles+Bryant%22',\n",
       "   'tweet_volume': None}),\n",
       " (2,\n",
       "  {'name': '#GreysAnatomy',\n",
       "   'url': 'http://twitter.com/search?q=%23GreysAnatomy',\n",
       "   'promoted_content': None,\n",
       "   'query': '%23GreysAnatomy',\n",
       "   'tweet_volume': 26251}),\n",
       " (3,\n",
       "  {'name': 'Malcolm Mitchell',\n",
       "   'url': 'http://twitter.com/search?q=%22Malcolm+Mitchell%22',\n",
       "   'promoted_content': None,\n",
       "   'query': '%22Malcolm+Mitchell%22',\n",
       "   'tweet_volume': None}),\n",
       " (4,\n",
       "  {'name': 'Fortnite',\n",
       "   'url': 'http://twitter.com/search?q=Fortnite',\n",
       "   'promoted_content': None,\n",
       "   'query': 'Fortnite',\n",
       "   'tweet_volume': 139577})]"
      ]
     },
     "execution_count": 14,
     "metadata": {},
     "output_type": "execute_result"
    }
   ],
   "source": [
    "[(i,x) for i,x in enumerate(trendLocal[0]['trends']) if i <= 4]"
   ]
  },
  {
   "cell_type": "markdown",
   "metadata": {},
   "source": [
    "# End "
   ]
  }
 ],
 "metadata": {
  "kernelspec": {
   "display_name": "Python 3",
   "language": "python",
   "name": "python3"
  },
  "language_info": {
   "codemirror_mode": {
    "name": "ipython",
    "version": 3
   },
   "file_extension": ".py",
   "mimetype": "text/x-python",
   "name": "python",
   "nbconvert_exporter": "python",
   "pygments_lexer": "ipython3",
   "version": "3.7.3"
  }
 },
 "nbformat": 4,
 "nbformat_minor": 4
}
