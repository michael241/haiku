{
 "cells": [
  {
   "cell_type": "markdown",
   "metadata": {},
   "source": [
    "# Purpose \n",
    "Connect to Twitter API for calling down information from TwitterAPI.  Before we can build a bot we need to be able to really understand how to best work with API. <br> <br> Sections:\n",
    "* 0.0 Imports\n",
    "* 1.0 Twitter API Setup\n",
    "* 2.0 Working Code Examples"
   ]
  },
  {
   "cell_type": "markdown",
   "metadata": {},
   "source": [
    "# 0.0 Imports \n",
    "Reference : Earthe Data Analytics Online Certificate "
   ]
  },
  {
   "cell_type": "code",
   "execution_count": 1,
   "metadata": {},
   "outputs": [],
   "source": [
    "import requests\n",
    "import os\n",
    "import json\n",
    "import pandas as pd\n",
    "import tweepy as tw"
   ]
  },
  {
   "cell_type": "markdown",
   "metadata": {},
   "source": [
    "# 1.0 Twitter API Setup\n",
    "These functions allow us to gather information that we need to easily interact with twitter."
   ]
  },
  {
   "cell_type": "markdown",
   "metadata": {},
   "source": [
    "Read in environmental variables for local consumption"
   ]
  },
  {
   "cell_type": "code",
   "execution_count": 2,
   "metadata": {},
   "outputs": [],
   "source": [
    "consumer_key = os.environ['twitter_consumer_key']\n",
    "consumer_secret_key = os.environ['twitter_consumer_secret_key']\n",
    "access_token =  os.environ['twitter_access_token']\n",
    "access_token_secret = os.environ['twitter_access_token_secret']"
   ]
  },
  {
   "cell_type": "markdown",
   "metadata": {},
   "source": [
    "Authorize API"
   ]
  },
  {
   "cell_type": "code",
   "execution_count": 3,
   "metadata": {},
   "outputs": [],
   "source": [
    "#setup authorization\n",
    "auth = tw.OAuthHandler(consumer_key,consumer_secret_key)\n",
    "auth.set_access_token(access_token,access_token_secret)"
   ]
  },
  {
   "cell_type": "markdown",
   "metadata": {},
   "source": [
    "Initiate API"
   ]
  },
  {
   "cell_type": "code",
   "execution_count": 4,
   "metadata": {},
   "outputs": [],
   "source": [
    "#make API\n",
    "twitterAPI = tw.API(auth,wait_on_rate_limit=True)"
   ]
  },
  {
   "cell_type": "code",
   "execution_count": 5,
   "metadata": {},
   "outputs": [
    {
     "data": {
      "text/plain": [
       "tweepy.api.API"
      ]
     },
     "execution_count": 5,
     "metadata": {},
     "output_type": "execute_result"
    }
   ],
   "source": [
    "type(twitterAPI)"
   ]
  },
  {
   "cell_type": "markdown",
   "metadata": {},
   "source": [
    "# 2.0 Examples of Working Code "
   ]
  },
  {
   "cell_type": "markdown",
   "metadata": {},
   "source": [
    "### 2.1 Send Tweet\n",
    "False here so every time the notebook is run we do not accidently send out this tweet."
   ]
  },
  {
   "cell_type": "code",
   "execution_count": 6,
   "metadata": {},
   "outputs": [],
   "source": [
    "if False:\n",
    "    #anything in the update_status is updated in status - confirmed\n",
    "    twitterAPI.update_status(\"Test Tweet\")"
   ]
  },
  {
   "cell_type": "markdown",
   "metadata": {},
   "source": [
    "### 2.2 Search on Twitter for Tweats "
   ]
  },
  {
   "cell_type": "markdown",
   "metadata": {},
   "source": [
    "Parameters for searching for tweats on a specific keyword"
   ]
  },
  {
   "cell_type": "code",
   "execution_count": 7,
   "metadata": {},
   "outputs": [],
   "source": [
    "#any string acceptable (without retweets)\n",
    "#search_words = \"#haiku -filter:retweets\"\n",
    "\n",
    "#two words\n",
    "search_words = \"climate+change -filter:retweets\"\n",
    "\n",
    "#date format YYYY-MM-DD\n",
    "date_since = \"2020-11-28\""
   ]
  },
  {
   "cell_type": "markdown",
   "metadata": {},
   "source": [
    "Gather the tweets (with #haiku in searhc, since a certain date,only the five more recent) <br>\n",
    "Maintain the information (please note the Cursor does not substantiate the data - it is one read only without tweeks)"
   ]
  },
  {
   "cell_type": "code",
   "execution_count": 8,
   "metadata": {},
   "outputs": [],
   "source": [
    "tweetList = [ x for x in tw.Cursor(twitterAPI.search,\n",
    "                     q=search_words,\n",
    "                     lang=\"en\",\n",
    "                     since=date_since).items(5)]"
   ]
  },
  {
   "cell_type": "markdown",
   "metadata": {},
   "source": [
    "Get text from tweets \n",
    "* screen name\n",
    "* created_at (generation time)\n",
    "* tweet.user.location (geographic origin)\n",
    "* status\n",
    "* id\n",
    "* entities ( information about things hashtaged)\n",
    "* user\n",
    "* geo\n",
    "* coordinates (coordinates of the status)\n",
    "* place (place of the status)\n",
    "* lang"
   ]
  },
  {
   "cell_type": "code",
   "execution_count": 9,
   "metadata": {},
   "outputs": [
    {
     "data": {
      "text/plain": [
       "[('jg_environ',\n",
       "  datetime.datetime(2020, 12, 23, 5, 7, 42),\n",
       "  'Nashville, TN',\n",
       "  '@parabasis Would the short books published by Boston Review fit your definition (e.g., https://t.co/DYjZSuJbdH and https://t.co/q40PoAGR41)?'),\n",
       " ('HalleQuezada',\n",
       "  datetime.datetime(2020, 12, 23, 5, 7, 37),\n",
       "  'Chicago, IL',\n",
       "  '@gabrielpiemonte Actual reparations, supported with both budget and policy, would fundamentally change our world.… https://t.co/W0ygrfwlIc'),\n",
       " ('YameenGayoom',\n",
       "  datetime.datetime(2020, 12, 23, 5, 7, 10),\n",
       "  'Maafushi Prison,Maldives',\n",
       "  '@Honest_Nasheed @KtyKalb @XefroX @ibusolih @RihiveliDream @MoTmv @MohamedNasheed @cnm_mv @Mihaarunews So your sayin… https://t.co/jXgXPewBqf'),\n",
       " ('riktheozfrog',\n",
       "  datetime.datetime(2020, 12, 23, 5, 6, 52),\n",
       "  'Elong Elong, New South Wales',\n",
       "  '@TheBatman1961 Well as we all know \"climate change\" has many, many faces.\\n\\nIn the case of Fraser Island the face wa… https://t.co/4PmK9b5iSY'),\n",
       " ('svenostberg',\n",
       "  datetime.datetime(2020, 12, 23, 5, 6, 31),\n",
       "  'Tokyo, Japan',\n",
       "  'Japan’s hydrogen push. Will it work &amp; help fight climate change? World’s biggest green hydrogen facility is in Japa… https://t.co/7xVQeBhm13')]"
      ]
     },
     "execution_count": 9,
     "metadata": {},
     "output_type": "execute_result"
    }
   ],
   "source": [
    "[(tweet.user.screen_name\n",
    "  ,tweet.created_at\n",
    "  ,tweet.user.location\n",
    "  ,tweet.text) for tweet in tweetList]"
   ]
  },
  {
   "cell_type": "markdown",
   "metadata": {},
   "source": [
    "### 2.3 Find Current Trends"
   ]
  },
  {
   "cell_type": "markdown",
   "metadata": {},
   "source": [
    "Get a list of all the APIs that are globally trackable (worldwide id is 1)"
   ]
  },
  {
   "cell_type": "code",
   "execution_count": 10,
   "metadata": {},
   "outputs": [],
   "source": [
    "trendWatcherGlobal = twitterAPI.trends_available()"
   ]
  },
  {
   "cell_type": "markdown",
   "metadata": {},
   "source": [
    "Get the trends closet to a specific address (boston, ma woeid = 2367105)"
   ]
  },
  {
   "cell_type": "code",
   "execution_count": 11,
   "metadata": {},
   "outputs": [],
   "source": [
    "trendWatcherLocal = twitterAPI.trends_closest(42.361145,-71.057083)"
   ]
  },
  {
   "cell_type": "markdown",
   "metadata": {},
   "source": [
    "### 2.4 Get Global Trends \n",
    "Get the trends from a specific place (worldwide)"
   ]
  },
  {
   "cell_type": "code",
   "execution_count": 12,
   "metadata": {},
   "outputs": [],
   "source": [
    "trendGlobal = twitterAPI.trends_place(1)"
   ]
  },
  {
   "cell_type": "markdown",
   "metadata": {},
   "source": [
    "See Top 5 Trending things right now."
   ]
  },
  {
   "cell_type": "code",
   "execution_count": 13,
   "metadata": {},
   "outputs": [
    {
     "data": {
      "text/plain": [
       "[(0,\n",
       "  {'name': 'Lakers',\n",
       "   'url': 'http://twitter.com/search?q=Lakers',\n",
       "   'promoted_content': None,\n",
       "   'query': 'Lakers',\n",
       "   'tweet_volume': 229143}),\n",
       " (1,\n",
       "  {'name': 'Tigres',\n",
       "   'url': 'http://twitter.com/search?q=Tigres',\n",
       "   'promoted_content': None,\n",
       "   'query': 'Tigres',\n",
       "   'tweet_volume': 33355}),\n",
       " (2,\n",
       "  {'name': 'Paul George',\n",
       "   'url': 'http://twitter.com/search?q=%22Paul+George%22',\n",
       "   'promoted_content': None,\n",
       "   'query': '%22Paul+George%22',\n",
       "   'tweet_volume': 21136}),\n",
       " (3,\n",
       "  {'name': 'Gignac',\n",
       "   'url': 'http://twitter.com/search?q=Gignac',\n",
       "   'promoted_content': None,\n",
       "   'query': 'Gignac',\n",
       "   'tweet_volume': None}),\n",
       " (4,\n",
       "  {'name': 'Roberto Carlos',\n",
       "   'url': 'http://twitter.com/search?q=%22Roberto+Carlos%22',\n",
       "   'promoted_content': None,\n",
       "   'query': '%22Roberto+Carlos%22',\n",
       "   'tweet_volume': 22558})]"
      ]
     },
     "execution_count": 13,
     "metadata": {},
     "output_type": "execute_result"
    }
   ],
   "source": [
    "[(i,x) for i,x in enumerate(trendGlobal[0]['trends']) if i <= 4]"
   ]
  },
  {
   "cell_type": "markdown",
   "metadata": {},
   "source": [
    "### 2.5 Get Regional Trendings Topics (Boston)"
   ]
  },
  {
   "cell_type": "markdown",
   "metadata": {},
   "source": [
    "Gather local Trends About Boston"
   ]
  },
  {
   "cell_type": "code",
   "execution_count": 14,
   "metadata": {},
   "outputs": [],
   "source": [
    "trendLocal = twitterAPI.trends_place(2367105)"
   ]
  },
  {
   "cell_type": "code",
   "execution_count": 15,
   "metadata": {},
   "outputs": [
    {
     "data": {
      "text/plain": [
       "[(0,\n",
       "  {'name': 'Dungy',\n",
       "   'url': 'http://twitter.com/search?q=Dungy',\n",
       "   'promoted_content': None,\n",
       "   'query': 'Dungy',\n",
       "   'tweet_volume': None}),\n",
       " (1,\n",
       "  {'name': 'Pakistan',\n",
       "   'url': 'http://twitter.com/search?q=Pakistan',\n",
       "   'promoted_content': None,\n",
       "   'query': 'Pakistan',\n",
       "   'tweet_volume': 369847}),\n",
       " (2,\n",
       "  {'name': 'East',\n",
       "   'url': 'http://twitter.com/search?q=East',\n",
       "   'promoted_content': None,\n",
       "   'query': 'East',\n",
       "   'tweet_volume': 116446}),\n",
       " (3,\n",
       "  {'name': 'Lakers',\n",
       "   'url': 'http://twitter.com/search?q=Lakers',\n",
       "   'promoted_content': None,\n",
       "   'query': 'Lakers',\n",
       "   'tweet_volume': 228836}),\n",
       " (4,\n",
       "  {'name': 'Paul George',\n",
       "   'url': 'http://twitter.com/search?q=%22Paul+George%22',\n",
       "   'promoted_content': None,\n",
       "   'query': '%22Paul+George%22',\n",
       "   'tweet_volume': 21136})]"
      ]
     },
     "execution_count": 15,
     "metadata": {},
     "output_type": "execute_result"
    }
   ],
   "source": [
    "[(i,x) for i,x in enumerate(trendLocal[0]['trends']) if i <= 4]"
   ]
  },
  {
   "cell_type": "markdown",
   "metadata": {},
   "source": [
    "# End "
   ]
  }
 ],
 "metadata": {
  "kernelspec": {
   "display_name": "Python 3",
   "language": "python",
   "name": "python3"
  },
  "language_info": {
   "codemirror_mode": {
    "name": "ipython",
    "version": 3
   },
   "file_extension": ".py",
   "mimetype": "text/x-python",
   "name": "python",
   "nbconvert_exporter": "python",
   "pygments_lexer": "ipython3",
   "version": "3.7.3"
  }
 },
 "nbformat": 4,
 "nbformat_minor": 4
}
