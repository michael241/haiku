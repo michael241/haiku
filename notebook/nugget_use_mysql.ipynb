{
 "cells": [
  {
   "cell_type": "markdown",
   "metadata": {},
   "source": [
    "# Purpose : Understand Link Between Python and MySQL"
   ]
  },
  {
   "cell_type": "markdown",
   "metadata": {},
   "source": [
    "# 0.0 Imports "
   ]
  },
  {
   "cell_type": "code",
   "execution_count": 1,
   "metadata": {},
   "outputs": [],
   "source": [
    "from mysql.connector import (connection)\n",
    "import os\n",
    "from datetime import datetime"
   ]
  },
  {
   "cell_type": "markdown",
   "metadata": {},
   "source": [
    "# 1.0 Establish Connection\n",
    "In order to do anything with mysql, we must first establish the connector"
   ]
  },
  {
   "cell_type": "code",
   "execution_count": 2,
   "metadata": {},
   "outputs": [
    {
     "name": "stdout",
     "output_type": "stream",
     "text": [
      "<mysql.connector.connection.MySQLConnection object at 0xb32afa70>\n"
     ]
    }
   ],
   "source": [
    "haiku_db = connection.MySQLConnection(\n",
    "    host=\"localhost\",\n",
    "    user=\"pi\",\n",
    "    password=os.environ['mysql_password'])\n",
    "\n",
    "print(haiku_db)"
   ]
  },
  {
   "cell_type": "markdown",
   "metadata": {},
   "source": [
    "# 2.0 Upload Data \n",
    "Now, we will verify that we can upload data "
   ]
  },
  {
   "cell_type": "code",
   "execution_count": 3,
   "metadata": {},
   "outputs": [],
   "source": [
    "haiku_db_cursor = haiku_db.cursor(buffered=True)"
   ]
  },
  {
   "cell_type": "markdown",
   "metadata": {},
   "source": [
    "Upload Data Statement (Null Used Since it Will Auto Increment)"
   ]
  },
  {
   "cell_type": "code",
   "execution_count": 4,
   "metadata": {},
   "outputs": [
    {
     "data": {
      "text/plain": [
       "\"INSERT INTO haiku_db.twitter_trend VALUES (NULL,'Timbuctoo','2020-12-11 00:57:02');\""
      ]
     },
     "execution_count": 4,
     "metadata": {},
     "output_type": "execute_result"
    }
   ],
   "source": [
    "#### example trend\n",
    "trend = 'Timbuctoo'\n",
    "\n",
    "#### YYYY-MM-DD hh:mm:ss\n",
    "time_holder = datetime.now().strftime(\"%Y-%m-%d %H:%M:%S\")\n",
    "\n",
    "# insert statement\n",
    "insert_statement = f\"INSERT INTO haiku_db.twitter_trend VALUES (NULL,'{trend}','{time_holder}');\"\n",
    "insert_statement"
   ]
  },
  {
   "cell_type": "markdown",
   "metadata": {},
   "source": [
    "Run Statement and insert data"
   ]
  },
  {
   "cell_type": "code",
   "execution_count": 5,
   "metadata": {},
   "outputs": [],
   "source": [
    "haiku_db_cursor.execute(insert_statement)\n",
    "\n",
    "#commit overall, not the cursor\n",
    "haiku_db.commit()"
   ]
  },
  {
   "cell_type": "markdown",
   "metadata": {},
   "source": [
    "# 3.0 Download Data "
   ]
  },
  {
   "cell_type": "markdown",
   "metadata": {},
   "source": [
    "We can verify that we can upload data.  Now lets verify we can download it."
   ]
  },
  {
   "cell_type": "code",
   "execution_count": 6,
   "metadata": {},
   "outputs": [],
   "source": [
    "haiku_db_cursor.execute(\"SELECT * FROM haiku_db.twitter_trend\")\n",
    "\n",
    "#commit overall, not the cursor\n",
    "haiku_db.commit()"
   ]
  },
  {
   "cell_type": "markdown",
   "metadata": {},
   "source": [
    "Show results "
   ]
  },
  {
   "cell_type": "code",
   "execution_count": 7,
   "metadata": {},
   "outputs": [
    {
     "data": {
      "text/plain": [
       "[(5, 'TESTY', datetime.datetime(2020, 12, 11, 0, 53, 32)),\n",
       " (6, 'TESTY', datetime.datetime(2020, 12, 11, 0, 53, 32)),\n",
       " (7, 'TESTY', datetime.datetime(2020, 12, 11, 0, 53, 32)),\n",
       " (8, 'AXA', datetime.datetime(2020, 12, 11, 0, 54, 51)),\n",
       " (9, 'Timbuctoo', datetime.datetime(2020, 12, 11, 0, 57, 2))]"
      ]
     },
     "execution_count": 7,
     "metadata": {},
     "output_type": "execute_result"
    }
   ],
   "source": [
    "haiku_db_cursor.fetchall()"
   ]
  },
  {
   "cell_type": "markdown",
   "metadata": {},
   "source": [
    "# End "
   ]
  }
 ],
 "metadata": {
  "kernelspec": {
   "display_name": "Python 3",
   "language": "python",
   "name": "python3"
  },
  "language_info": {
   "codemirror_mode": {
    "name": "ipython",
    "version": 3
   },
   "file_extension": ".py",
   "mimetype": "text/x-python",
   "name": "python",
   "nbconvert_exporter": "python",
   "pygments_lexer": "ipython3",
   "version": "3.7.3"
  }
 },
 "nbformat": 4,
 "nbformat_minor": 4
}
